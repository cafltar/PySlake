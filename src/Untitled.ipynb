{
 "cells": [
  {
   "cell_type": "code",
   "execution_count": 4,
   "id": "f226343d-7b17-4fc6-afe7-2547891022fa",
   "metadata": {},
   "outputs": [],
   "source": [
    "import os\n",
    "import numpy as np\n",
    "import pandas as pd\n",
    "import cv2\n",
    "from matplotlib import pyplot as plt\n",
    "\n",
    "p_raw = 'C:/Users/joaquin/usda/raw/PySlake'\n",
    "p_work = 'C:/Users/joaquin/usda/work/PySlake'"
   ]
  },
  {
   "cell_type": "code",
   "execution_count": 18,
   "id": "eca5d90a-be56-4d15-87ba-e12d6559725e",
   "metadata": {},
   "outputs": [],
   "source": [
    "samples = []\n",
    "times = []\n",
    "cells = []\n",
    "for d in os.listdir(p_raw):\n",
    "    samples.append(d)\n",
    "    t=[]\n",
    "    for f in os.listdir(os.path.join(p_raw,d)):\n",
    "        if '.csv' in f:\n",
    "            if f!='ImageInfo.csv':\n",
    "                cell_labels = pd.read_csv(os.path.join(p_raw,d,f))\n",
    "    for f in os.listdir(os.path.join(p_raw,d,'Images')):\n",
    "        t.append(os.path.getctime(os.path.join(p_raw,d,'Images',f)))\n",
    "        img = cv2.imread(os.path.join(p_raw,d,'Images',f))\n",
    "        b,g,r = cv2.split(img)      \n",
    "        circles = cv2.HoughCircles(g,cv2.HOUGH_GRADIENT,1,100,param1=50,param2=30,minRadius=0,maxRadius=0)\n",
    "        \n",
    "    times.append(t)"
   ]
  },
  {
   "cell_type": "code",
   "execution_count": 12,
   "id": "16e323eb-c843-4868-98f8-4dd585695025",
   "metadata": {},
   "outputs": [
    {
     "data": {
      "text/plain": [
       "['Kelly P13_P14_P15_Time2_Depth2',\n",
       " 'Kelly P16_P17_P20_Time2_Depth2',\n",
       " 'Kelly P1_P2_P3_Time2_Depth2',\n",
       " 'Kelly P21_P22_P23_Time1_Depth2',\n",
       " 'Kelly P21_P22_P23_Time2_Depth2',\n",
       " 'Kelly P24_Time1_Depth2',\n",
       " 'Kelly P8_P9_P11_Time2_Depth2']"
      ]
     },
     "execution_count": 12,
     "metadata": {},
     "output_type": "execute_result"
    }
   ],
   "source": [
    "samples"
   ]
  },
  {
   "cell_type": "code",
   "execution_count": null,
   "id": "018b452d-89ab-4236-84c1-19d0db74a2c3",
   "metadata": {},
   "outputs": [],
   "source": []
  }
 ],
 "metadata": {
  "kernelspec": {
   "display_name": "Python 3 (ipykernel)",
   "language": "python",
   "name": "python3"
  },
  "language_info": {
   "codemirror_mode": {
    "name": "ipython",
    "version": 3
   },
   "file_extension": ".py",
   "mimetype": "text/x-python",
   "name": "python",
   "nbconvert_exporter": "python",
   "pygments_lexer": "ipython3",
   "version": "3.9.7"
  }
 },
 "nbformat": 4,
 "nbformat_minor": 5
}
