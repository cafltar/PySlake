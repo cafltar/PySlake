{
 "cells": [
  {
   "cell_type": "code",
   "execution_count": 106,
   "id": "7509da28-1462-4ec3-9c5a-0363534e333f",
   "metadata": {},
   "outputs": [],
   "source": [
    "import os\n",
    "import numpy as np\n",
    "import pandas as pd\n",
    "import cv2\n",
    "from matplotlib import pyplot as plt\n",
    "from scipy import spatial\n",
    "p_raw = '/project/nsaru/raw/PySlake/'\n",
    "p_work = '/project/nsaru/work/PySlake/'"
   ]
  },
  {
   "cell_type": "code",
   "execution_count": 107,
   "id": "15d77fe8-0761-43d6-97e1-71d4a12620aa",
   "metadata": {},
   "outputs": [],
   "source": [
    "def within(circle,point):\n",
    "    if np.sqrt(np.dot(circle[0:2]-point,circle[0:2]-point))<circle[2]:\n",
    "        return True\n",
    "    else:\n",
    "        return False"
   ]
  },
  {
   "cell_type": "code",
   "execution_count": 108,
   "id": "67411965-3f86-4423-9c0a-587f2498926b",
   "metadata": {},
   "outputs": [],
   "source": [
    "def nearest_cell(circles,centroids):\n",
    "    cells_xy = circles[0][:,0:2]\n",
    "    aggrs_xy = np.array(centroids)\n",
    "    d = spatial.distance_matrix(cells_xy,aggrs_xy)\n",
    "    cells_idx = []\n",
    "    for id in range(d.shape[1]):\n",
    "        i = np.argmin(d[:,id])\n",
    "        if within(circles[0][i,:],aggrs_xy[id,:]):\n",
    "            cells_idx.append(np.array([i,id]))\n",
    "        \n",
    "    return cells_idx"
   ]
  },
  {
   "cell_type": "code",
   "execution_count": 113,
   "id": "31036d7d-e9d5-4a13-9c7b-0484a8e5e1ed",
   "metadata": {},
   "outputs": [],
   "source": [
    "def cell_ids(circles,cell_labels):\n",
    "    circles[0][:,0] = np.round(circles[0][:,0],decimals=-2)\n",
    "    circles[0][:,1] = np.round(circles[0][:,1],decimals=-2)\n",
    "    cdf = pd.DataFrame(circles[0][:,0:2], columns=['x', 'y'])\n",
    "    cdf = cdf.sort_values(by=['x','y'])#counts down by column\n",
    "    idx = np.array(cdf.index)\n",
    "    return idx, cdf\n",
    "    "
   ]
  },
  {
   "cell_type": "code",
   "execution_count": 111,
   "id": "eca5d90a-be56-4d15-87ba-e12d6559725e",
   "metadata": {},
   "outputs": [
    {
     "name": "stdout",
     "output_type": "stream",
     "text": [
      "/project/nsaru/raw/PySlake/Kelly P24_Time1_Depth2/Images\n"
     ]
    }
   ],
   "source": [
    "samples = []\n",
    "times = []\n",
    "cells = []\n",
    "all_matches = []\n",
    "all_areas = []\n",
    "all_circles = []\n",
    "for d in os.listdir(p_raw):\n",
    "    samples.append(d)\n",
    "    t=[]\n",
    "    matches = []\n",
    "    areas = []\n",
    "    circles_t = []\n",
    "    for f in os.listdir(os.path.join(p_raw,d)):\n",
    "        if '.csv' in f:\n",
    "            if f!='ImageInfo.csv':\n",
    "                cell_labels = pd.read_csv(os.path.join(p_raw,d,f))\n",
    "    j = 0\n",
    "    p_img = os.path.join(p_raw,d,'Images')\n",
    "    if not os.path.isdir(p_img): \n",
    "        print(p_img)\n",
    "        p_img = os.path.join(p_raw,d,'images')\n",
    "\n",
    "    for f in os.listdir(p_img):\n",
    "        t.append(os.path.getctime(os.path.join(p_img,f)))\n",
    "        img = cv2.imread(os.path.join(p_img,f))\n",
    "        b,g,r = cv2.split(img) \n",
    "        h,s,v = cv2.split(cv2.cvtColor(img,cv2.COLOR_BGR2HSV))\n",
    "        if j==0:\n",
    "            circles = cv2.HoughCircles(b,cv2.HOUGH_GRADIENT,1,175,param1=50,param2=30,minRadius=110,maxRadius=140)\n",
    "            circles = np.uint16(np.around(circles))\n",
    "        for i in circles[0,:]:\n",
    "            # draw the outer circle\n",
    "            cv2.circle(img,(i[0],i[1]),i[2],(255,0,0),5)\n",
    "\n",
    "            #plt.subplot(211)\n",
    "            #plt.imshow(img)\n",
    "        ret, thresh = cv2.threshold(v,120,255,cv2.THRESH_BINARY_INV) \n",
    "        contours, hierarchy = cv2.findContours(image=thresh, mode=cv2.RETR_TREE, method=cv2.CHAIN_APPROX_NONE)\n",
    "        centers = []\n",
    "        A = []\n",
    "        for c in contours:\n",
    "            # compute the center of the contour\n",
    "            M = cv2.moments(c)\n",
    "            if M[\"m00\"]>0:\n",
    "                cX = int(M[\"m10\"] / M[\"m00\"])\n",
    "                cY = int(M[\"m01\"] / M[\"m00\"])\n",
    "                centers.append(np.array([cX,cY]))\n",
    "                A.append(M[\"m00\"])\n",
    "        # draw contours on the original image\n",
    "        cv2.drawContours(image=img, contours=contours, contourIdx=-1, color=(255, 0, 0), thickness=5, lineType=cv2.LINE_AA)\n",
    "\n",
    "        #plt.subplot(212)\n",
    "        #plt.imshow(img)\n",
    "        #plt.show()\n",
    "        if not os.path.isdir(os.path.join(p_work,d)): os.mkdir(os.path.join(p_work,d))\n",
    "        fout = os.path.join(p_work,d,str(j)+'.jpg')\n",
    "        cv2.imwrite(fout,img)\n",
    "        cells_idx = nearest_cell(circles,centers)\n",
    "        matches.append(cells_idx)\n",
    "        areas.append(A)\n",
    "        circles_t.append(circles)\n",
    "        j = j+1\n",
    "    all_circles.append(circles_t)\n",
    "    all_matches.append(matches)\n",
    "    all_areas.append(areas)\n",
    "    times.append(t)"
   ]
  },
  {
   "cell_type": "code",
   "execution_count": 114,
   "id": "6d4a7c91-0574-4392-b88e-4df17b8f2950",
   "metadata": {},
   "outputs": [
    {
     "data": {
      "text/plain": [
       "(array([32, 18, 29, 17, 33, 34, 24, 16, 35, 27,  7, 22, 14,  4, 25, 15,  6,\n",
       "        28, 26, 19,  3, 11,  1,  9,  2,  0, 20, 12, 10,  5,  8, 13, 21, 31,\n",
       "        23, 30]),\n",
       "        x     y\n",
       " 32   550   500\n",
       " 18   550  1400\n",
       " 29   600  1000\n",
       " 17   650   800\n",
       " 33   650  1200\n",
       " 34   650  1700\n",
       " 24   700   500\n",
       " 16   700  1000\n",
       " 35   700  1400\n",
       " 27   750  1700\n",
       " 7    800   800\n",
       " 22   800  1200\n",
       " 14   850   500\n",
       " 4    850  1000\n",
       " 25   850  1400\n",
       " 15   900   800\n",
       " 6    900  1200\n",
       " 28   900  1700\n",
       " 26   950   500\n",
       " 19   950  1000\n",
       " 3    950  1400\n",
       " 11  1050   800\n",
       " 1   1050  1200\n",
       " 9   1050  1700\n",
       " 2   1100   500\n",
       " 0   1100  1000\n",
       " 20  1100  1400\n",
       " 12  1150   800\n",
       " 10  1150  1200\n",
       " 5   1150  1700\n",
       " 8   1250   500\n",
       " 13  1250  1000\n",
       " 21  1250  1400\n",
       " 31  1300   800\n",
       " 23  1300  1200\n",
       " 30  1300  1700)"
      ]
     },
     "execution_count": 114,
     "metadata": {},
     "output_type": "execute_result"
    }
   ],
   "source": [
    "cell_ids(circles,cell_labels)"
   ]
  },
  {
   "cell_type": "code",
   "execution_count": null,
   "id": "ef3879eb-d6d6-4708-a495-4462b80b5f4d",
   "metadata": {},
   "outputs": [],
   "source": []
  }
 ],
 "metadata": {
  "kernelspec": {
   "display_name": "nsaru-cv",
   "language": "python",
   "name": "nsaru-cv"
  },
  "language_info": {
   "codemirror_mode": {
    "name": "ipython",
    "version": 3
   },
   "file_extension": ".py",
   "mimetype": "text/x-python",
   "name": "python",
   "nbconvert_exporter": "python",
   "pygments_lexer": "ipython3",
   "version": "3.9.2"
  }
 },
 "nbformat": 4,
 "nbformat_minor": 5
}
